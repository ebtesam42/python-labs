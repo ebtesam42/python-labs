{
 "cells": [
  {
   "cell_type": "code",
   "execution_count": 20,
   "metadata": {
    "scrolled": false
   },
   "outputs": [
    {
     "name": "stdout",
     "output_type": "stream",
     "text": [
      "C:\\Users\\asus\\anaconda3\\lib\\site-packages\\sklearn\\datasets\\data\\breast_cancer.csv\n"
     ]
    }
   ],
   "source": [
    "from sklearn import datasets\n",
    "breast_cancer = datasets.load_breast_cancer()\n",
    "print(breast_cancer.filename)"
   ]
  },
  {
   "cell_type": "code",
   "execution_count": 19,
   "metadata": {},
   "outputs": [
    {
     "name": "stdout",
     "output_type": "stream",
     "text": [
      "C:\\Users\\asus\\anaconda3\\lib\\site-packages\\sklearn\\datasets\\data\\breast_cancer.csv\n"
     ]
    }
   ],
   "source": [
    "from sklearn import datasets\n",
    "breast_cancer = datasets.load_breast_cancer()\n",
    "print(breast_cancer.filename)"
   ]
  },
  {
   "cell_type": "code",
   "execution_count": null,
   "metadata": {},
   "outputs": [],
   "source": []
  },
  {
   "cell_type": "code",
   "execution_count": 13,
   "metadata": {},
   "outputs": [
    {
     "name": "stdout",
     "output_type": "stream",
     "text": [
      "[[1.799e+01 1.038e+01 1.228e+02 ... 4.601e-01 1.189e-01 0.000e+00]\n",
      " [2.057e+01 1.777e+01 1.329e+02 ... 2.750e-01 8.902e-02 0.000e+00]\n",
      " [1.969e+01 2.125e+01 1.300e+02 ... 3.613e-01 8.758e-02 0.000e+00]\n",
      " ...\n",
      " [1.660e+01 2.808e+01 1.083e+02 ... 2.218e-01 7.820e-02 0.000e+00]\n",
      " [2.060e+01 2.933e+01 1.401e+02 ... 4.087e-01 1.240e-01 0.000e+00]\n",
      " [7.760e+00 2.454e+01 4.792e+01 ... 2.871e-01 7.039e-02 1.000e+00]]\n"
     ]
    }
   ],
   "source": [
    "import numpy as np\n",
    "breast_cancer_data = np.genfromtxt('C:\\\\Users\\\\asus\\\\anaconda3\\\\lib\\\\site-packages\\\\sklearn\\\\datasets\\\\data\\\\breast_cancer.csv',\n",
    "                                  delimiter=\",\", skip_header=1)\n",
    "print(breast_cancer_data)"
   ]
  },
  {
   "cell_type": "code",
   "execution_count": 17,
   "metadata": {},
   "outputs": [
    {
     "name": "stdout",
     "output_type": "stream",
     "text": [
      "mean of mean texture is 19.289648506151142\n"
     ]
    }
   ],
   "source": [
    "import numpy as np\n",
    "breast_cancer_data = np.genfromtxt('C:\\\\Users\\\\asus\\\\anaconda3\\\\lib\\\\site-packages\\\\sklearn\\\\datasets\\\\data\\\\breast_cancer.csv',\n",
    "                                  delimiter=\",\", skip_header=1)\n",
    "print(\"mean of {} is {}\".format(breast_cancer.feature_names[1], breast_cancer_data[:,1].mean()))"
   ]
  },
  {
   "cell_type": "code",
   "execution_count": null,
   "metadata": {},
   "outputs": [],
   "source": []
  }
 ],
 "metadata": {
  "kernelspec": {
   "display_name": "Python 3",
   "language": "python",
   "name": "python3"
  },
  "language_info": {
   "codemirror_mode": {
    "name": "ipython",
    "version": 3
   },
   "file_extension": ".py",
   "mimetype": "text/x-python",
   "name": "python",
   "nbconvert_exporter": "python",
   "pygments_lexer": "ipython3",
   "version": "3.7.6"
  }
 },
 "nbformat": 4,
 "nbformat_minor": 4
}
